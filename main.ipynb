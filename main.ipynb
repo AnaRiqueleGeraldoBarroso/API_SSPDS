{
 "cells": [
  {
   "cell_type": "code",
   "execution_count": 22,
   "id": "34a8adfd-4069-430d-b456-28808022c215",
   "metadata": {},
   "outputs": [
    {
     "name": "stdout",
     "output_type": "stream",
     "text": [
      " * Serving Flask app '__main__'\n",
      " * Debug mode: off\n"
     ]
    },
    {
     "name": "stderr",
     "output_type": "stream",
     "text": [
      "WARNING: This is a development server. Do not use it in a production deployment. Use a production WSGI server instead.\n",
      " * Running on http://127.0.0.1:5000\n",
      "Press CTRL+C to quit\n",
      "127.0.0.1 - - [03/Jul/2025 14:49:25] \"GET / HTTP/1.1\" 200 -\n",
      "127.0.0.1 - - [03/Jul/2025 14:49:32] \"POST / HTTP/1.1\" 302 -\n",
      "127.0.0.1 - - [03/Jul/2025 14:49:32] \"GET /t1 HTTP/1.1\" 200 -\n",
      "127.0.0.1 - - [03/Jul/2025 14:49:35] \"GET /dashboard/crimes_por_cidade HTTP/1.1\" 200 -\n",
      "127.0.0.1 - - [03/Jul/2025 14:51:21] \"GET /t2 HTTP/1.1\" 200 -\n",
      "127.0.0.1 - - [03/Jul/2025 14:51:26] \"GET /t1 HTTP/1.1\" 200 -\n",
      "127.0.0.1 - - [03/Jul/2025 14:51:30] \"GET /t2 HTTP/1.1\" 200 -\n",
      "127.0.0.1 - - [03/Jul/2025 14:51:32] \"GET /bi HTTP/1.1\" 200 -\n",
      "127.0.0.1 - - [03/Jul/2025 14:51:32] \"GET /static/images/plot1.png HTTP/1.1\" 304 -\n",
      "127.0.0.1 - - [03/Jul/2025 14:51:37] \"GET /dashboard/crimes_por_cidade HTTP/1.1\" 200 -\n"
     ]
    }
   ],
   "source": [
    "import psycopg2, matplotlib.pyplot as plt, io, base64, plotly\n",
    "from flask import Flask, render_template, request, url_for, redirect\n",
    "import pandas as pd\n",
    "import plotly.express as px\n",
    "import plotly\n",
    "import json\n",
    "\n",
    "app = Flask(__name__)\n",
    "\n",
    "def bd(sql):\n",
    "    conn = psycopg2.connect(host='localhost', database='IPA1', user='postgres', password='19122022')\n",
    "    cur = conn.cursor()\n",
    "    cur.execute(sql)\n",
    "    dados = cur.fetchall()\n",
    "    cur.close()\n",
    "    conn.close()\n",
    "    return dados\n",
    "\n",
    "@app.route('/', methods=('GET', 'POST'))\n",
    "def autentic():\n",
    "    if request.method == 'POST':\n",
    "        conta = request.form['login']\n",
    "        senha = request.form['senha']\n",
    "        sql=\"select * from administrador.usuario where (login='\"+conta+\"' and senha='\"+senha+\"')\"\n",
    "        #sql=\"select * from administrador.usuario where (login='\"+conta+\"')\"\n",
    "        record=bd(sql)\n",
    "        nr=len(record)\n",
    "        if nr>=1:\n",
    "            return redirect(url_for('menu'))\n",
    "        else:\n",
    "            return redirect(url_for('indexnulo'))\n",
    "    return render_template('autentic.html')\n",
    "\n",
    "@app.route('/nulo')\n",
    "def indexnulo():\n",
    "    return render_template('indexnulo.html')\n",
    "\n",
    "@app.route('/t1')\n",
    "def menu():\n",
    "    sql='select * from menu'\n",
    "    menus= bd(sql)\n",
    "    return render_template('menu.html', menus=menus)\n",
    "\n",
    "@app.route('/t2')\n",
    "def submenu():\n",
    "    sql='select * from submenu'\n",
    "    menus= bd(sql)\n",
    "    return render_template('submenu.html', menus=menus)\n",
    "\n",
    "@app.route('/bi')\n",
    "def index2():\n",
    "    return render_template('index2.html')\n",
    "\n",
    "@app.route('/dashboard/crimes_por_cidade')\n",
    "def crimes_por_cidade():\n",
    "    sql = '''SELECT cidade, COUNT(*) \n",
    "    FROM ocorrencia \n",
    "    GROUP BY cidade \n",
    "    '''\n",
    "    df = bd(sql)\n",
    "    cidades = [linha[0] for linha in df]\n",
    "    totais = [linha[1] for linha in df]\n",
    "\n",
    "    \n",
    "    df = pd.DataFrame({'Cidade': cidades, 'Total de Ocorrências': totais})\n",
    "\n",
    "    fig = px.bar(df, x='Cidade', y='Total de Ocorrências',\n",
    "                 title='Total de Ocorrências por Cidade',\n",
    "                 color='Total de Ocorrências',\n",
    "                 color_continuous_scale='Blues')\n",
    "\n",
    "    fig.update_layout(xaxis_tickangle=-45)\n",
    "\n",
    "    graph_json = json.dumps(fig, cls=plotly.utils.PlotlyJSONEncoder)\n",
    "    return render_template(\"crimes_por_cidade.html\", graphJSON=graph_json)\n",
    "\n",
    "if __name__ == \"__main__\":\n",
    "    app.run()"
   ]
  },
  {
   "cell_type": "code",
   "execution_count": null,
   "id": "2b855b6d-eac1-4fe1-b281-2bf39643d914",
   "metadata": {},
   "outputs": [],
   "source": []
  }
 ],
 "metadata": {
  "kernelspec": {
   "display_name": "Python 3",
   "language": "python",
   "name": "python3"
  },
  "language_info": {
   "codemirror_mode": {
    "name": "ipython",
    "version": 3
   },
   "file_extension": ".py",
   "mimetype": "text/x-python",
   "name": "python",
   "nbconvert_exporter": "python",
   "pygments_lexer": "ipython3",
   "version": "3.13.3"
  }
 },
 "nbformat": 4,
 "nbformat_minor": 5
}
